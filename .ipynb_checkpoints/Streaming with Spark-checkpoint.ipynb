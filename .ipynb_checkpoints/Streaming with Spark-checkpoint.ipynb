{
 "cells": [
  {
   "cell_type": "markdown",
   "metadata": {},
   "source": [
    "<h1>Streaming with Spark</h1>\n",
    "\n",
    "<p>Spark has the ability to read and write to many different streaming platforms, but I'll focus on kafka</p>\n",
    "\n",
    "<h3>Apache Kafka</h3>\n",
    "\n",
    "<p>Kafka is a distributed streaming platform</p>\n",
    "\n",
    "<ul>\n",
    "    <li>Publish and subscribe to streams of records, similar to a message queue or enterprise messaging system.</li>\n",
    "    <li>Store streams of records in a fault-tolerant durable way</li>\n",
    "    <li>Process streams of records as they occur.</li>\n",
    "</ul>\n",
    "\n",
    "<h3><a href=\"https://kafka.apache.org/quickstart\">Kafka Quickstart</a></h3>\n",
    "\n",
    "\n",
    "<ul>\n",
    "    <li>Start <a href=\"https://zookeeper.apache.org/\">Zookeeper</a></li>\n",
    "    <ul>\n",
    "        <li>\n",
    "            <code>bin/zookeeper-server-start.sh config/zookeeper.properties</code>\n",
    "        </li>\n",
    "    </ul>\n",
    "    <li>Start Kafka</li>\n",
    "    <ul>\n",
    "        <li>\n",
    "            <code>bin/kafka-server-start.sh config/server.properties</code>\n",
    "        </li>\n",
    "    </ul>\n",
    "    <li>Create a Topic\n",
    "    <ul>\n",
    "        <li>\n",
    "            <code>bin/kafka-topics.sh --create --bootstrap-server localhost:9092 --replication-factor 1 --partitions 1 --topic ncaa_events</code>\n",
    "        </li>\n",
    "    </ul>\n",
    "    <li>Start a Producer</li>\n",
    "    <ul>\n",
    "        <li>\n",
    "            <code>bin/kafka-console-producer.sh --broker-list localhost:9092 --topic ncaa_events</code>\n",
    "        </li>\n",
    "    </ul>\n",
    "    <li>Start a Consumer</li>\n",
    "    <ul>\n",
    "        <li>\n",
    "            <code>bin/kafka-console-consumer.sh --bootstrap-server localhost:9092 --from-beginning --topic ncaa_events</code>\n",
    "        </li>\n",
    "    </ul>\n",
    "    \n",
    "</ul>\n",
    "\n",
    "<h3>Follow the Streaming py files in the jobs dir</h3>\n",
    "\n"
   ]
  }
 ],
 "metadata": {
  "kernelspec": {
   "display_name": "Python 3",
   "language": "python",
   "name": "python3"
  },
  "language_info": {
   "codemirror_mode": {
    "name": "ipython",
    "version": 3
   },
   "file_extension": ".py",
   "mimetype": "text/x-python",
   "name": "python",
   "nbconvert_exporter": "python",
   "pygments_lexer": "ipython3",
   "version": "3.6.8"
  }
 },
 "nbformat": 4,
 "nbformat_minor": 2
}
