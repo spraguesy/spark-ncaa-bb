{
 "cells": [
  {
   "cell_type": "markdown",
   "metadata": {},
   "source": [
    "# Template for testing spark jobs\n",
    "\n",
    "This notebook is intended to serve as a template for testing new spark jobs. The job parameters are set through the `SparkConf()` and the a `SparkSession` is built off of that. A spark server needs to be running in order for the job to run."
   ]
  },
  {
   "cell_type": "code",
   "execution_count": 1,
   "metadata": {},
   "outputs": [],
   "source": [
    "import os, sys\n",
    "from pyspark.sql import SparkSession\n",
    "from pyspark import SparkConf\n",
    "from pyspark.sql.types import (StructType, StructField, BooleanType, StringType, IntegerType)\n",
    "import json\n",
    "module_path = os.path.abspath(os.path.join('..'))\n",
    "if module_path not in sys.path:\n",
    "    sys.path.append(module_path)\n",
    "    \n",
    "# The next two lines are needed if you are going to write to PostgreSQL \n",
    "os.environ['PYSPARK_SUBMIT_ARGS'] = '--packages org.postgresql:postgresql:42.2.5 pyspark-shell'\n",
    "# .option(\"driver\", \"org.postgresql.Driver\")"
   ]
  },
  {
   "cell_type": "code",
   "execution_count": 1,
   "metadata": {},
   "outputs": [
    {
     "ename": "NameError",
     "evalue": "name 'SparkConf' is not defined",
     "output_type": "error",
     "traceback": [
      "\u001b[0;31m---------------------------------------------------------------------------\u001b[0m",
      "\u001b[0;31mNameError\u001b[0m                                 Traceback (most recent call last)",
      "\u001b[0;32m<ipython-input-1-b58188ded09e>\u001b[0m in \u001b[0;36m<module>\u001b[0;34m\u001b[0m\n\u001b[0;32m----> 1\u001b[0;31m \u001b[0mconf\u001b[0m \u001b[0;34m=\u001b[0m \u001b[0mSparkConf\u001b[0m\u001b[0;34m(\u001b[0m\u001b[0;34m)\u001b[0m\u001b[0;34m.\u001b[0m\u001b[0msetAppName\u001b[0m\u001b[0;34m(\u001b[0m\u001b[0;34m'testing'\u001b[0m\u001b[0;34m)\u001b[0m\u001b[0;34m.\u001b[0m\u001b[0msetMaster\u001b[0m\u001b[0;34m(\u001b[0m\u001b[0;34m\"spark://asprague-laptop.ihtx.iland.com:7077\"\u001b[0m\u001b[0;34m)\u001b[0m\u001b[0;34m\u001b[0m\u001b[0;34m\u001b[0m\u001b[0m\n\u001b[0m\u001b[1;32m      2\u001b[0m \u001b[0mspark\u001b[0m \u001b[0;34m=\u001b[0m \u001b[0mSparkSession\u001b[0m\u001b[0;34m.\u001b[0m\u001b[0mbuilder\u001b[0m\u001b[0;34m.\u001b[0m\u001b[0mconfig\u001b[0m\u001b[0;34m(\u001b[0m\u001b[0mconf\u001b[0m\u001b[0;34m=\u001b[0m\u001b[0mconf\u001b[0m\u001b[0;34m)\u001b[0m\u001b[0;34m.\u001b[0m\u001b[0mgetOrCreate\u001b[0m\u001b[0;34m(\u001b[0m\u001b[0;34m)\u001b[0m\u001b[0;34m\u001b[0m\u001b[0;34m\u001b[0m\u001b[0m\n\u001b[1;32m      3\u001b[0m \u001b[0;34m\u001b[0m\u001b[0m\n\u001b[1;32m      4\u001b[0m \u001b[0mspark\u001b[0m\u001b[0;34m.\u001b[0m\u001b[0mstop\u001b[0m\u001b[0;34m(\u001b[0m\u001b[0;34m)\u001b[0m\u001b[0;34m\u001b[0m\u001b[0;34m\u001b[0m\u001b[0m\n\u001b[1;32m      5\u001b[0m \u001b[0;34m\u001b[0m\u001b[0m\n",
      "\u001b[0;31mNameError\u001b[0m: name 'SparkConf' is not defined"
     ]
    }
   ],
   "source": [
    "conf = SparkConf().setAppName('testing').setMaster(\"spark://asprague-laptop.ihtx.iland.com:7077\")\n",
    "spark = SparkSession.builder.config(conf=conf).getOrCreate()\n",
    "\n",
    "# Also use the line below when"
   ]
  },
  {
   "cell_type": "code",
   "execution_count": 7,
   "metadata": {},
   "outputs": [],
   "source": [
    "bb_stats = spark.read.format(\"csv\").option(\"header\", \"true\").load(\"./docs/*.csv\")"
   ]
  },
  {
   "cell_type": "code",
   "execution_count": 4,
   "metadata": {},
   "outputs": [
    {
     "name": "stdout",
     "output_type": "stream",
     "text": [
      "<class 'pyspark.sql.dataframe.DataFrame'>\n"
     ]
    }
   ],
   "source": [
    "print(type(bb_stats))"
   ]
  },
  {
   "cell_type": "code",
   "execution_count": 5,
   "metadata": {},
   "outputs": [
    {
     "name": "stdout",
     "output_type": "stream",
     "text": [
      "root\n",
      " |-- game_id: string (nullable = true)\n",
      " |-- load_timestamp: string (nullable = true)\n",
      " |-- season: string (nullable = true)\n",
      " |-- status: string (nullable = true)\n",
      " |-- scheduled_date: string (nullable = true)\n",
      " |-- venue_id: string (nullable = true)\n",
      " |-- venue_name: string (nullable = true)\n",
      " |-- venue_city: string (nullable = true)\n",
      " |-- venue_state: string (nullable = true)\n",
      " |-- venue_address: string (nullable = true)\n",
      " |-- venue_zip: string (nullable = true)\n",
      " |-- venue_country: string (nullable = true)\n",
      " |-- venue_capacity: string (nullable = true)\n",
      " |-- attendance: string (nullable = true)\n",
      " |-- neutral_site: string (nullable = true)\n",
      " |-- conference_game: string (nullable = true)\n",
      " |-- tournament: string (nullable = true)\n",
      " |-- tournament_type: string (nullable = true)\n",
      " |-- round: string (nullable = true)\n",
      " |-- game_no: string (nullable = true)\n",
      " |-- away_market: string (nullable = true)\n",
      " |-- away_name: string (nullable = true)\n",
      " |-- away_id: string (nullable = true)\n",
      " |-- away_alias: string (nullable = true)\n",
      " |-- away_conf_name: string (nullable = true)\n",
      " |-- away_conf_alias: string (nullable = true)\n",
      " |-- away_division_name: string (nullable = true)\n",
      " |-- away_division_alias: string (nullable = true)\n",
      " |-- away_league_name: string (nullable = true)\n",
      " |-- home_market: string (nullable = true)\n",
      " |-- home_name: string (nullable = true)\n",
      " |-- home_id: string (nullable = true)\n",
      " |-- home_alias: string (nullable = true)\n",
      " |-- home_conf_name: string (nullable = true)\n",
      " |-- home_conf_alias: string (nullable = true)\n",
      " |-- home_division_name: string (nullable = true)\n",
      " |-- home_division_alias: string (nullable = true)\n",
      " |-- home_league_name: string (nullable = true)\n",
      " |-- period: string (nullable = true)\n",
      " |-- game_clock: string (nullable = true)\n",
      " |-- elapsed_time_sec: string (nullable = true)\n",
      " |-- possession_arrow: string (nullable = true)\n",
      " |-- team_name: string (nullable = true)\n",
      " |-- team_market: string (nullable = true)\n",
      " |-- team_id: string (nullable = true)\n",
      " |-- team_alias: string (nullable = true)\n",
      " |-- team_conf_name: string (nullable = true)\n",
      " |-- team_conf_alias: string (nullable = true)\n",
      " |-- team_division_name: string (nullable = true)\n",
      " |-- team_division_alias: string (nullable = true)\n",
      " |-- team_league_name: string (nullable = true)\n",
      " |-- team_basket: string (nullable = true)\n",
      " |-- possession_team_id: string (nullable = true)\n",
      " |-- player_id: string (nullable = true)\n",
      " |-- player_full_name: string (nullable = true)\n",
      " |-- jersey_num: string (nullable = true)\n",
      " |-- event_id: string (nullable = true)\n",
      " |-- timestamp: string (nullable = true)\n",
      " |-- event_description: string (nullable = true)\n",
      " |-- event_coord_x: string (nullable = true)\n",
      " |-- event_coord_y: string (nullable = true)\n",
      " |-- event_type: string (nullable = true)\n",
      " |-- type: string (nullable = true)\n",
      " |-- shot_made: string (nullable = true)\n",
      " |-- shot_type: string (nullable = true)\n",
      " |-- shot_subtype: string (nullable = true)\n",
      " |-- three_point_shot: string (nullable = true)\n",
      " |-- points_scored: string (nullable = true)\n",
      " |-- turnover_type: string (nullable = true)\n",
      " |-- rebound_type: string (nullable = true)\n",
      " |-- timeout_duration: string (nullable = true)\n",
      "\n"
     ]
    }
   ],
   "source": [
    "bb_stats.printSchema()"
   ]
  },
  {
   "cell_type": "code",
   "execution_count": 16,
   "metadata": {},
   "outputs": [
    {
     "name": "stdout",
     "output_type": "stream",
     "text": [
      "['{\"event_type\":\"shootingfoul\",\"count\":183541}', '{\"event_type\":\"twopointmiss\",\"count\":425422}', '{\"event_type\":\"opentip\",\"count\":11133}', '{\"event_type\":\"personalfoul\",\"count\":243613}', '{\"event_type\":\"tvtimeout\",\"count\":79960}', '{\"event_type\":\"defensivethreeseconds\",\"count\":4}', '{\"event_type\":\"rebound\",\"count\":790490}', '{\"event_type\":\"possession\",\"count\":390}', '{\"event_type\":\"delay\",\"count\":60}', '{\"event_type\":\"clearpathfoul\",\"count\":53}', '{\"event_type\":\"technicalfoul\",\"count\":6050}', '{\"event_type\":\"kickball\",\"count\":1660}', '{\"event_type\":\"freethrow\",\"count\":2}', '{\"event_type\":\"attemptblocked\",\"count\":81863}', '{\"event_type\":\"turnover\",\"count\":410166}', '{\"event_type\":\"freethrowmiss\",\"count\":134256}', '{\"event_type\":\"teamtimeout\",\"count\":63613}', '{\"event_type\":\"substitution\",\"count\":466}', '{\"event_type\":\"flagranttwo\",\"count\":118}', '{\"event_type\":\"threepointmiss\",\"count\":291935}', '{\"event_type\":\"block\",\"count\":81863}', '{\"event_type\":\"flagrantone\",\"count\":1778}', '{\"event_type\":\"laneviolation\",\"count\":242}', '{\"event_type\":\"twopointmade\",\"count\":400648}', '{\"event_type\":\"ejection\",\"count\":53}', '{\"event_type\":\"lineupchange\",\"count\":35926}', '{\"event_type\":\"officialtimeout\",\"count\":7528}', '{\"event_type\":\"endperiod\",\"count\":23128}', '{\"event_type\":\"openinbound\",\"count\":6847}', '{\"event_type\":\"review\",\"count\":3370}', '{\"event_type\":\"assist\",\"count\":293403}', '{\"event_type\":\"minortechnicalfoul\",\"count\":89}', '{\"event_type\":\"threepointmade\",\"count\":153967}', '{\"event_type\":\"deadball\",\"count\":55249}', '{\"event_type\":\"offensivefoul\",\"count\":48713}', '{\"event_type\":\"jumpball\",\"count\":6157}', '{\"event_type\":\"freethrowmade\",\"count\":316637}']\n"
     ]
    }
   ],
   "source": [
    "stats = bb_stats.select(\"event_type\").groupBy(\"event_type\").count().toJSON().collect()\n",
    "\n",
    "print(stats)"
   ]
  },
  {
   "cell_type": "code",
   "execution_count": null,
   "metadata": {},
   "outputs": [],
   "source": []
  }
 ],
 "metadata": {
  "kernelspec": {
   "display_name": "Python 3",
   "language": "python",
   "name": "python3"
  },
  "language_info": {
   "codemirror_mode": {
    "name": "ipython",
    "version": 3
   },
   "file_extension": ".py",
   "mimetype": "text/x-python",
   "name": "python",
   "nbconvert_exporter": "python",
   "pygments_lexer": "ipython3",
   "version": "3.6.8"
  }
 },
 "nbformat": 4,
 "nbformat_minor": 2
}
